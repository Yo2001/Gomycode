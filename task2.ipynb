{
 "cells": [
  {
   "cell_type": "code",
   "execution_count": null,
   "metadata": {},
   "outputs": [],
   "source": [
    "#Q1\n",
    "x= input (\"enter first name\")\n",
    "y= input (\"enter last name \")\n",
    "k= y+\" \"+x\n",
    "print (k)\n"
   ]
  },
  {
   "cell_type": "code",
   "execution_count": null,
   "metadata": {},
   "outputs": [],
   "source": []
  },
  {
   "cell_type": "code",
   "execution_count": null,
   "metadata": {},
   "outputs": [],
   "source": []
  },
  {
   "cell_type": "markdown",
   "metadata": {},
   "source": []
  },
  {
   "cell_type": "code",
   "execution_count": 29,
   "metadata": {},
   "outputs": [
    {
     "name": "stdout",
     "output_type": "stream",
     "text": [
      "enter value Q25\n",
      "615\n"
     ]
    }
   ],
   "source": [
    "#Q2\n",
    "x2= str(input(\"enter value Q2\"))\n",
    "y2= x2+x2\n",
    "y3=x2+x2+x2\n",
    "Y3=int(y3)\n",
    "Y2=int(y2)\n",
    "X2=int(x2)\n",
    "VALUE=X2+Y3+Y2\n",
    "print(VALUE)\n",
    "\n"
   ]
  },
  {
   "cell_type": "code",
   "execution_count": 5,
   "metadata": {},
   "outputs": [
    {
     "name": "stdout",
     "output_type": "stream",
     "text": [
      "enter value6\n",
      "Even\n"
     ]
    }
   ],
   "source": [
    "#Q3\n",
    "A=int(input(\"enter value Q3\")) \n",
    "if A%2 == 0:\n",
    "    print(\"Even\")\n",
    "else:\n",
    "    print (\"Odd\")\n",
    "        \n",
    "    "
   ]
  },
  {
   "cell_type": "code",
   "execution_count": 2,
   "metadata": {},
   "outputs": [
    {
     "name": "stdout",
     "output_type": "stream",
     "text": [
      "2016\n",
      "2051\n",
      "2086\n",
      "2121\n",
      "2156\n",
      "2191\n",
      "2226\n",
      "2261\n",
      "2296\n",
      "2331\n",
      "2366\n",
      "2401\n",
      "2436\n",
      "2471\n",
      "2506\n",
      "2541\n",
      "2576\n",
      "2611\n",
      "2646\n",
      "2681\n",
      "2716\n",
      "2751\n",
      "2786\n",
      "2821\n",
      "2856\n",
      "2891\n",
      "2926\n",
      "2961\n",
      "2996\n",
      "3031\n",
      "3066\n",
      "3101\n",
      "3136\n",
      "3171\n"
     ]
    }
   ],
   "source": [
    "#Q4 (2000 and 3200) - divisible by 7 but are not a multiple of 5\n",
    "for i in range (2000,3201):\n",
    "    if(i%7==0 and i%5==1):\n",
    "        print (i)\n",
    "        i=i+1\n",
    "\n"
   ]
  },
  {
   "cell_type": "code",
   "execution_count": 10,
   "metadata": {},
   "outputs": [
    {
     "name": "stdout",
     "output_type": "stream",
     "text": [
      "enter value Q5 :8\n",
      "40320\n"
     ]
    }
   ],
   "source": [
    "#Q5\n",
    "B=int(input(\"enter value Q5 :\"))\n",
    "fact=1\n",
    "for i in range(1,B+1):\n",
    "    fact=fact*i\n",
    "    i=i+1\n",
    "print(fact)    \n",
    "    "
   ]
  },
  {
   "cell_type": "code",
   "execution_count": 22,
   "metadata": {},
   "outputs": [
    {
     "name": "stdout",
     "output_type": "stream",
     "text": [
      "enter a word: hello\n",
      "hlo\n"
     ]
    }
   ],
   "source": [
    "#Q6\n",
    "T=input(\"enter a word: \")\n",
    "len(T)\n",
    "T2=\"\"\n",
    "for i in range (len(T)):\n",
    "    if(i%2==0):\n",
    "        T2=T2+T[i]\n",
    "print(T2)        \n",
    "    \n"
   ]
  },
  {
   "cell_type": "code",
   "execution_count": 14,
   "metadata": {},
   "outputs": [
    {
     "name": "stdout",
     "output_type": "stream",
     "text": [
      "enter the price: 500\n",
      "250.0\n"
     ]
    }
   ],
   "source": [
    "#Q7\n",
    "V=int(input(\"enter the price: \"))\n",
    "newval=int()\n",
    "if (V== 500):\n",
    "    newval=V*0.5\n",
    "elif(200<=V<500):\n",
    "    newval=V*0.3\n",
    "elif(V<200):\n",
    "    newval=V*0.1\n",
    "print(newval)    "
   ]
  },
  {
   "cell_type": "code",
   "execution_count": null,
   "metadata": {},
   "outputs": [],
   "source": []
  }
 ],
 "metadata": {
  "kernelspec": {
   "display_name": "Python 3",
   "language": "python",
   "name": "python3"
  },
  "language_info": {
   "codemirror_mode": {
    "name": "ipython",
    "version": 3
   },
   "file_extension": ".py",
   "mimetype": "text/x-python",
   "name": "python",
   "nbconvert_exporter": "python",
   "pygments_lexer": "ipython3",
   "version": "3.8.3"
  }
 },
 "nbformat": 4,
 "nbformat_minor": 4
}
