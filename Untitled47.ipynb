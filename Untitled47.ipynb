{
  "nbformat": 4,
  "nbformat_minor": 0,
  "metadata": {
    "colab": {
      "provenance": [],
      "toc_visible": true,
      "authorship_tag": "ABX9TyMkgLXlhv8EmsEFDLHGpMVq"
    },
    "kernelspec": {
      "name": "python3",
      "display_name": "Python 3"
    },
    "language_info": {
      "name": "python"
    }
  },
  "cells": [
    {
      "cell_type": "code",
      "source": [
        "import pandas as pd\n",
        "\n",
        "file_path = \"/content/GP-2025.xlsx\"\n",
        "df = pd.read_excel(file_path, sheet_name=\"Main data\")\n",
        "\n",
        "# Print column names\n",
        "print(df.columns)\n"
      ],
      "metadata": {
        "colab": {
          "base_uri": "https://localhost:8080/"
        },
        "id": "QEUVzKx8fpA3",
        "outputId": "3d8f10a2-3be2-4853-f6ed-43c144268131"
      },
      "execution_count": null,
      "outputs": [
        {
          "output_type": "stream",
          "name": "stdout",
          "text": [
            "Index(['Patient_ID', 'Age', 'Gender', 'Weight_kg', 'Height_cm', 'children',\n",
            "       'smoker', 'BMI', 'Chronic_Disease', 'family_medical_history',\n",
            "       'Hemoglobin_g_dL', 'Cholesterol_mg_dL', 'Blood_Sugar_mg_dL',\n",
            "       'Creatinine_mg_dL', 'Policy_ID', 'Plan_Name', 'Coverage_Details',\n",
            "       'Start_Date', 'End_Date', 'Claimed_Amount', 'Unnamed: 20',\n",
            "       'Unnamed: 21', 'Unnamed: 22', 'Claim weight', 'Insurance score',\n",
            "       'Unnamed: 25', 'Smoker score', 'Family score', 'Lifestyle score',\n",
            "       'Unnamed: 29', 'BMI score', 'Hemoglobin score', 'Sugar score ',\n",
            "       'Cholesterol score', 'Creatine score', 'Chronic diseases',\n",
            "       'Physical score', 'Unnamed: 37', 'Unnamed: 38', 'Wellness score'],\n",
            "      dtype='object')\n"
          ]
        }
      ]
    },
    {
      "cell_type": "code",
      "source": [
        "import pandas as pd\n",
        "\n",
        "# Load the dataset\n",
        "file_path = \"/content/GP-2025.xlsx\"  # Ensure the file is in the same folder as your script\n",
        "df = pd.read_excel(file_path, sheet_name=\"Main data\")\n",
        "\n",
        "# Define a function to classify insurance risk\n",
        "def classify_insurance_risk(row):\n",
        "    bmi = row[\"BMI\"]\n",
        "    chronic_disease = row[\"Chronic_Disease\"]\n",
        "    smoker = row[\"smoker\"]\n",
        "    hemoglobin = row[\"Hemoglobin_g_dL\"]\n",
        "    wellness_score = row[\"Wellness score\"]\n",
        "\n",
        "    # Rule 1: High Risk\n",
        "    if bmi > 30 and chronic_disease == \"Yes\":\n",
        "        return \"High Risk\", \"Increase Insurance Cost by 30%\"\n",
        "\n",
        "    # Rule 2: Moderate Risk\n",
        "    if smoker == \"Yes\" and hemoglobin < 12:\n",
        "        return \"Moderate Risk\", \"Increase Insurance Cost by 15%\"\n",
        "\n",
        "    # Rule 3: Low Risk\n",
        "    if wellness_score > 80:\n",
        "        return \"Low Risk\", \"Decrease Insurance Cost by 10%\"\n",
        "\n",
        "    # Default: Moderate Risk\n",
        "    return \"Moderate Risk\", \"No Change\"\n",
        "\n",
        "# Apply the function to each row in the DataFrame\n",
        "df[\"Insurance Risk\"], df[\"Insurance Suggestion\"] = zip(*df.apply(classify_insurance_risk, axis=1))\n",
        "\n",
        "# Save the updated DataFrame in the same directory as the script\n",
        "output_path = \"Insurance_Risk_Analysis.xlsx\"\n",
        "df.to_excel(output_path, index=False)\n",
        "\n",
        "print(f\"Processing complete. Results saved to {output_path}\")\n"
      ],
      "metadata": {
        "colab": {
          "base_uri": "https://localhost:8080/"
        },
        "id": "TtsvSFKzgEVf",
        "outputId": "7f848680-a636-4078-91d1-c1ebe24dd026"
      },
      "execution_count": null,
      "outputs": [
        {
          "output_type": "stream",
          "name": "stdout",
          "text": [
            "Processing complete. Results saved to Insurance_Risk_Analysis.xlsx\n"
          ]
        }
      ]
    },
    {
      "cell_type": "code",
      "source": [],
      "metadata": {
        "id": "naSGSGgwm2QP"
      },
      "execution_count": null,
      "outputs": []
    }
  ]
}